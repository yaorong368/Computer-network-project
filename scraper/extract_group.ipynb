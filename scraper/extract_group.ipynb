{
 "cells": [
  {
   "cell_type": "code",
   "execution_count": 2,
   "id": "97b6f534",
   "metadata": {},
   "outputs": [
    {
     "name": "stdout",
     "output_type": "stream",
     "text": [
      "Requirement already satisfied: beautifulsoup4 in /Users/annie/opt/anaconda3/lib/python3.8/site-packages (4.9.3)\n",
      "Requirement already satisfied: soupsieve>1.2 in /Users/annie/opt/anaconda3/lib/python3.8/site-packages (from beautifulsoup4) (2.2.1)\n",
      "Note: you may need to restart the kernel to use updated packages.\n"
     ]
    }
   ],
   "source": [
    "pip install beautifulsoup4"
   ]
  },
  {
   "cell_type": "code",
   "execution_count": 17,
   "id": "14550db3",
   "metadata": {},
   "outputs": [],
   "source": [
    "import requests\n",
    "\n",
    "URL = \"https://www.meetup.com/find/?source=GROUPS&location=us--ga--Atlanta/\"\n",
    "page = requests.get(URL)"
   ]
  },
  {
   "cell_type": "code",
   "execution_count": 28,
   "id": "0693ba83",
   "metadata": {},
   "outputs": [
    {
     "data": {
      "text/plain": [
       "<Response [200]>"
      ]
     },
     "execution_count": 28,
     "metadata": {},
     "output_type": "execute_result"
    }
   ],
   "source": [
    "page"
   ]
  },
  {
   "cell_type": "code",
   "execution_count": 18,
   "id": "daa69cd2",
   "metadata": {},
   "outputs": [],
   "source": [
    "from bs4 import BeautifulSoup\n",
    "soup = BeautifulSoup(page.content, \"html.parser\")"
   ]
  },
  {
   "cell_type": "code",
   "execution_count": 29,
   "id": "8359769f",
   "metadata": {},
   "outputs": [],
   "source": [
    "results = soup.find_all(\"a\", id=\"group-card-in-search-results\")"
   ]
  },
  {
   "cell_type": "code",
   "execution_count": 30,
   "id": "ed67d916",
   "metadata": {},
   "outputs": [
    {
     "data": {
      "text/plain": [
       "21"
      ]
     },
     "execution_count": 30,
     "metadata": {},
     "output_type": "execute_result"
    }
   ],
   "source": [
    "len(results)"
   ]
  },
  {
   "cell_type": "code",
   "execution_count": 48,
   "id": "722ec668",
   "metadata": {},
   "outputs": [
    {
     "data": {
      "text/plain": [
       "'Public'"
      ]
     },
     "execution_count": 48,
     "metadata": {},
     "output_type": "execute_result"
    }
   ],
   "source": [
    "results[0].find(class_=\"flex flex-row\").text.split('· ')[-1]"
   ]
  },
  {
   "cell_type": "code",
   "execution_count": 49,
   "id": "a4c9ab75",
   "metadata": {
    "scrolled": true
   },
   "outputs": [
    {
     "name": "stdout",
     "output_type": "stream",
     "text": [
      "Public\n",
      "https://www.meetup.com/learners-inc-preschool-meetup-group\n",
      "\n",
      "Public\n",
      "https://www.meetup.com/world-virtual-tours-archeology-art-and-history-lovers\n",
      "\n",
      "Public\n",
      "https://www.meetup.com/NYHistory-Culture\n",
      "\n",
      "Public\n",
      "https://www.meetup.com/shorewalkers-members-only\n",
      "\n",
      "Public\n",
      "https://www.meetup.com/afterwork\n",
      "\n",
      "Public\n",
      "https://www.meetup.com/kansas-city-narcissism-survivor-meetup-group\n",
      "\n",
      "Private\n",
      "https://www.meetup.com/Finding-Female-Friends-Over-Fifty\n",
      "\n",
      "Public\n",
      "https://www.meetup.com/dashing-whippets\n",
      "\n",
      "Public\n",
      "https://www.meetup.com/midtown-womens-social-group\n",
      "\n",
      "Public\n",
      "https://www.meetup.com/new-york-triathlon-club\n",
      "\n",
      "Public\n",
      "https://www.meetup.com/speed-dating\n",
      "\n",
      "Public\n",
      "https://www.meetup.com/big-apple-beauties-30s-50s\n",
      "\n",
      "Private\n",
      "https://www.meetup.com/HabituallyChic-NYC\n",
      "\n",
      "Private\n",
      "https://www.meetup.com/Ph-Ds-PM-Writting-Group\n",
      "\n",
      "Public\n",
      "https://www.meetup.com/formula1NYC\n",
      "\n",
      "Public\n",
      "https://www.meetup.com/Microsoft-Reactor-New-York\n",
      "\n",
      "Private\n",
      "https://www.meetup.com/Desi-Outdoors-Enrichment-and-Recreational-Activities\n",
      "\n",
      "Private\n",
      "https://www.meetup.com/Black-Baby-Boomers-Just-Want-to-Have-Fun\n",
      "\n",
      "Private\n",
      "https://www.meetup.com/manhattan-nyc-explorers\n",
      "\n",
      "Public\n",
      "https://www.meetup.com/nycLEXGO\n",
      "\n",
      "Public\n",
      "https://www.meetup.com/new-york-foodie-fun-international-pubcrawl-meetup-group\n",
      "\n"
     ]
    }
   ],
   "source": [
    "for group in results:\n",
    "    print(group.find(class_=\"flex flex-row\").text.split('· ')[-1])\n",
    "    print(group[\"href\"])\n",
    "    print()"
   ]
  },
  {
   "cell_type": "code",
   "execution_count": 51,
   "id": "6d02315c",
   "metadata": {
    "scrolled": false
   },
   "outputs": [
    {
     "name": "stdout",
     "output_type": "stream",
     "text": [
      "Collecting selenium\n",
      "  Downloading selenium-4.1.3-py3-none-any.whl (968 kB)\n",
      "\u001b[K     |████████████████████████████████| 968 kB 1.5 MB/s eta 0:00:01\n",
      "\u001b[?25hRequirement already satisfied: urllib3[secure,socks]~=1.26 in /Users/annie/opt/anaconda3/lib/python3.8/site-packages (from selenium) (1.26.4)\n",
      "Collecting trio-websocket~=0.9\n",
      "  Downloading trio_websocket-0.9.2-py3-none-any.whl (16 kB)\n",
      "Collecting trio~=0.17\n",
      "  Downloading trio-0.20.0-py3-none-any.whl (359 kB)\n",
      "\u001b[K     |████████████████████████████████| 359 kB 6.1 MB/s eta 0:00:01\n",
      "\u001b[?25hRequirement already satisfied: sniffio in /Users/annie/opt/anaconda3/lib/python3.8/site-packages (from trio~=0.17->selenium) (1.2.0)\n",
      "Requirement already satisfied: sortedcontainers in /Users/annie/opt/anaconda3/lib/python3.8/site-packages (from trio~=0.17->selenium) (2.3.0)\n",
      "Requirement already satisfied: async-generator>=1.9 in /Users/annie/opt/anaconda3/lib/python3.8/site-packages (from trio~=0.17->selenium) (1.10)\n",
      "Requirement already satisfied: idna in /Users/annie/opt/anaconda3/lib/python3.8/site-packages (from trio~=0.17->selenium) (2.10)\n",
      "Requirement already satisfied: attrs>=19.2.0 in /Users/annie/opt/anaconda3/lib/python3.8/site-packages (from trio~=0.17->selenium) (20.3.0)\n",
      "Collecting outcome\n",
      "  Downloading outcome-1.1.0-py2.py3-none-any.whl (9.7 kB)\n",
      "Collecting wsproto>=0.14\n",
      "  Downloading wsproto-1.1.0-py3-none-any.whl (24 kB)\n",
      "Requirement already satisfied: PySocks!=1.5.7,<2.0,>=1.5.6 in /Users/annie/opt/anaconda3/lib/python3.8/site-packages (from urllib3[secure,socks]~=1.26->selenium) (1.7.1)\n",
      "Requirement already satisfied: pyOpenSSL>=0.14 in /Users/annie/opt/anaconda3/lib/python3.8/site-packages (from urllib3[secure,socks]~=1.26->selenium) (20.0.1)\n",
      "Requirement already satisfied: cryptography>=1.3.4 in /Users/annie/opt/anaconda3/lib/python3.8/site-packages (from urllib3[secure,socks]~=1.26->selenium) (3.4.7)\n",
      "Requirement already satisfied: certifi in /Users/annie/opt/anaconda3/lib/python3.8/site-packages (from urllib3[secure,socks]~=1.26->selenium) (2020.12.5)\n",
      "Requirement already satisfied: cffi>=1.12 in /Users/annie/opt/anaconda3/lib/python3.8/site-packages (from cryptography>=1.3.4->urllib3[secure,socks]~=1.26->selenium) (1.14.5)\n",
      "Requirement already satisfied: pycparser in /Users/annie/opt/anaconda3/lib/python3.8/site-packages (from cffi>=1.12->cryptography>=1.3.4->urllib3[secure,socks]~=1.26->selenium) (2.20)\n",
      "Requirement already satisfied: six>=1.5.2 in /Users/annie/opt/anaconda3/lib/python3.8/site-packages (from pyOpenSSL>=0.14->urllib3[secure,socks]~=1.26->selenium) (1.15.0)\n",
      "Collecting h11<1,>=0.9.0\n",
      "  Downloading h11-0.13.0-py3-none-any.whl (58 kB)\n",
      "\u001b[K     |████████████████████████████████| 58 kB 11.2 MB/s eta 0:00:01\n",
      "\u001b[?25hInstalling collected packages: outcome, h11, wsproto, trio, trio-websocket, selenium\n",
      "Successfully installed h11-0.13.0 outcome-1.1.0 selenium-4.1.3 trio-0.20.0 trio-websocket-0.9.2 wsproto-1.1.0\n",
      "Note: you may need to restart the kernel to use updated packages.\n"
     ]
    }
   ],
   "source": [
    "pip install selenium"
   ]
  },
  {
   "cell_type": "code",
   "execution_count": 68,
   "id": "0fd5df72",
   "metadata": {},
   "outputs": [],
   "source": [
    "import time\n",
    "import os\n",
    "from selenium import webdriver\n",
    "from selenium.webdriver.common.keys import Keys\n",
    "from webdriver_manager.chrome import ChromeDriverManager"
   ]
  },
  {
   "cell_type": "code",
   "execution_count": 61,
   "id": "7d5a13ea",
   "metadata": {},
   "outputs": [
    {
     "name": "stdout",
     "output_type": "stream",
     "text": [
      "Collecting chromedriver-binary\n",
      "  Downloading chromedriver-binary-100.0.4896.20.0.tar.gz (4.9 kB)\n",
      "Building wheels for collected packages: chromedriver-binary\n",
      "  Building wheel for chromedriver-binary (setup.py) ... \u001b[?25ldone\n",
      "\u001b[?25h  Created wheel for chromedriver-binary: filename=chromedriver_binary-100.0.4896.20.0-py3-none-any.whl size=8326503 sha256=e692541dc78978a132a2b6e4f6239c396874c82170f4346486159d5d9f214cdb\n",
      "  Stored in directory: /Users/annie/Library/Caches/pip/wheels/67/fe/99/c2e7cd1c125fbad544868e34aec3efd3e6b3514d41ba010eab\n",
      "Successfully built chromedriver-binary\n",
      "Installing collected packages: chromedriver-binary\n",
      "Successfully installed chromedriver-binary-100.0.4896.20.0\n",
      "Note: you may need to restart the kernel to use updated packages.\n"
     ]
    }
   ],
   "source": [
    "pip install chromedriver-binary"
   ]
  },
  {
   "cell_type": "code",
   "execution_count": 64,
   "id": "581e67da",
   "metadata": {},
   "outputs": [
    {
     "name": "stdout",
     "output_type": "stream",
     "text": [
      "Collecting webdriver-manager\n",
      "  Downloading webdriver_manager-3.5.4-py2.py3-none-any.whl (18 kB)\n",
      "Requirement already satisfied: requests in /Users/annie/opt/anaconda3/lib/python3.8/site-packages (from webdriver-manager) (2.27.1)\n",
      "Requirement already satisfied: urllib3<1.27,>=1.21.1 in /Users/annie/opt/anaconda3/lib/python3.8/site-packages (from requests->webdriver-manager) (1.26.4)\n",
      "Requirement already satisfied: charset-normalizer~=2.0.0 in /Users/annie/opt/anaconda3/lib/python3.8/site-packages (from requests->webdriver-manager) (2.0.9)\n",
      "Requirement already satisfied: certifi>=2017.4.17 in /Users/annie/opt/anaconda3/lib/python3.8/site-packages (from requests->webdriver-manager) (2020.12.5)\n",
      "Requirement already satisfied: idna<4,>=2.5 in /Users/annie/opt/anaconda3/lib/python3.8/site-packages (from requests->webdriver-manager) (2.10)\n",
      "Installing collected packages: webdriver-manager\n",
      "Successfully installed webdriver-manager-3.5.4\n",
      "Note: you may need to restart the kernel to use updated packages.\n"
     ]
    }
   ],
   "source": [
    "pip install webdriver-manager"
   ]
  },
  {
   "cell_type": "code",
   "execution_count": 81,
   "id": "ac9f92cc",
   "metadata": {},
   "outputs": [
    {
     "name": "stderr",
     "output_type": "stream",
     "text": [
      "\n",
      "\n",
      "====== WebDriver manager ======\n",
      "Current google-chrome version is 99.0.4844\n",
      "Get LATEST chromedriver version for 99.0.4844 google-chrome\n",
      "Driver [/Users/annie/.wdm/drivers/chromedriver/mac64/99.0.4844.51/chromedriver] found in cache\n"
     ]
    },
    {
     "data": {
      "text/plain": [
       "'/Users/annie/.wdm/drivers/chromedriver/mac64/99.0.4844.51/chromedriver'"
      ]
     },
     "execution_count": 81,
     "metadata": {},
     "output_type": "execute_result"
    }
   ],
   "source": [
    "ChromeDriverManager().install()"
   ]
  },
  {
   "cell_type": "code",
   "execution_count": 70,
   "id": "2b34b561",
   "metadata": {
    "scrolled": true
   },
   "outputs": [
    {
     "name": "stderr",
     "output_type": "stream",
     "text": [
      "\n",
      "\n",
      "====== WebDriver manager ======\n",
      "Current google-chrome version is 99.0.4844\n",
      "Get LATEST chromedriver version for 99.0.4844 google-chrome\n",
      "Driver [/Users/annie/.wdm/drivers/chromedriver/mac64/99.0.4844.51/chromedriver] found in cache\n",
      "<ipython-input-70-5fa0d12bcabf>:1: DeprecationWarning: executable_path has been deprecated, please pass in a Service object\n",
      "  browser = webdriver.Chrome(ChromeDriverManager().install())\n"
     ]
    }
   ],
   "source": [
    "browser = webdriver.Chrome(ChromeDriverManager().install())\n",
    "browser.get(\"https://www.meetup.com/find/?source=GROUPS&location=us--ga--Atlanta/\")\n",
    "time.sleep(1)"
   ]
  },
  {
   "cell_type": "code",
   "execution_count": 77,
   "id": "99694dce",
   "metadata": {},
   "outputs": [],
   "source": [
    "ScrollNumber = 1000\n",
    "for i in range(1,ScrollNumber):\n",
    "    browser.execute_script(\"window.scrollTo(1,50000)\")\n",
    "    time.sleep(5)"
   ]
  },
  {
   "cell_type": "code",
   "execution_count": 78,
   "id": "6bfac0a9",
   "metadata": {},
   "outputs": [],
   "source": [
    "file = open('./data.txt', 'w')\n",
    "file.write(browser.page_source)\n",
    "file.close()"
   ]
  },
  {
   "cell_type": "code",
   "execution_count": null,
   "id": "a9f38738",
   "metadata": {},
   "outputs": [],
   "source": []
  }
 ],
 "metadata": {
  "kernelspec": {
   "display_name": "Python 3",
   "language": "python",
   "name": "python3"
  },
  "language_info": {
   "codemirror_mode": {
    "name": "ipython",
    "version": 3
   },
   "file_extension": ".py",
   "mimetype": "text/x-python",
   "name": "python",
   "nbconvert_exporter": "python",
   "pygments_lexer": "ipython3",
   "version": "3.8.8"
  }
 },
 "nbformat": 4,
 "nbformat_minor": 5
}
